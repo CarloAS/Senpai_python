{
 "cells": [
  {
   "cell_type": "code",
   "execution_count": 17,
   "metadata": {},
   "outputs": [
    {
     "name": "stdout",
     "output_type": "stream",
     "text": [
      "🧪 Objective Metadata:\n",
      "  ID: Objective:1\n",
      "  Name: Plan-Apochromat 63x/1.40 Oil DIC M27\n",
      "  Magnification: 63x\n",
      "  Numerical Aperture (NA): 1.4\n",
      "  Working Distance: 193 µm\n",
      "  Pupil Geometry: Circular\n",
      "  Immersion Type: Oil\n",
      "  Immersion Refractive Index: 1.518\n",
      "  Manufacturer Model: Plan-Apochromat 63x/1.40 Oil DIC M27\n",
      "🧬 Pixel Size Metadata:\n",
      "  X: 1.315e-07 µm\n",
      "  Y: 1.315e-07 µm\n",
      "  Z: 2.000e-07 µm\n"
     ]
    }
   ],
   "source": [
    "from aicspylibczi import CziFile\n",
    "\n",
    "# Load CZI\n",
    "czi = CziFile(\"stack_test.czi\")\n",
    "\n",
    "# Meta is already an ElementTree Element\n",
    "root = czi.meta\n",
    "\n",
    "# --- Get Objective Magnification ---\n",
    "objective = root.find(\".//Objectives/Objective\")\n",
    "\n",
    "if objective is not None:\n",
    "    # Extract relevant info\n",
    "    lens_id = objective.attrib.get(\"Id\")\n",
    "    lens_name = objective.attrib.get(\"Name\")\n",
    "    magnification = objective.findtext(\"NominalMagnification\")\n",
    "    na = objective.findtext(\"LensNA\")\n",
    "    wd = objective.findtext(\"WorkingDistance\")\n",
    "    pupil = objective.findtext(\"PupilGeometry\")\n",
    "    immersion = objective.findtext(\"Immersion\")\n",
    "    immersion_ri = objective.findtext(\"ImmersionRefractiveIndex\")\n",
    "    model = objective.find(\"Manufacturer/Model\").text if objective.find(\"Manufacturer/Model\") is not None else None\n",
    "\n",
    "    print(\"🧪 Objective Metadata:\")\n",
    "    print(f\"  ID: {lens_id}\")\n",
    "    print(f\"  Name: {lens_name}\")\n",
    "    print(f\"  Magnification: {magnification}x\")\n",
    "    print(f\"  Numerical Aperture (NA): {na}\")\n",
    "    print(f\"  Working Distance: {wd} µm\")\n",
    "    print(f\"  Pupil Geometry: {pupil}\")\n",
    "    print(f\"  Immersion Type: {immersion}\")\n",
    "    print(f\"  Immersion Refractive Index: {immersion_ri}\")\n",
    "    print(f\"  Manufacturer Model: {model}\")\n",
    "else:\n",
    "    print(\"No objective metadata found.\")\n",
    "\n",
    "# --- Get Pixel Size in X/Y/Z ---\n",
    "scaling_items = root.find(\".//Scaling/Items\")\n",
    "\n",
    "# Dictionary to hold pixel sizes\n",
    "pixel_sizes = {}\n",
    "\n",
    "# Loop over each Distance element (X, Y, Z)\n",
    "for distance in scaling_items.findall(\"Distance\"):\n",
    "    axis = distance.attrib[\"Id\"]\n",
    "    value = float(distance.findtext(\"Value\"))\n",
    "    units = distance.findtext(\"DefaultUnitFormat\")\n",
    "    pixel_sizes[axis] = (value, units)\n",
    "\n",
    "# Print nicely\n",
    "print(\"🧬 Pixel Size Metadata:\")\n",
    "for axis in [\"X\", \"Y\", \"Z\"]:\n",
    "    val, unit = pixel_sizes.get(axis, (None, None))\n",
    "    if val:\n",
    "        print(f\"  {axis}: {val:.3e} {unit}\")\n",
    "    else:\n",
    "        print(f\"  {axis}: not found\")"
   ]
  },
  {
   "cell_type": "code",
   "execution_count": 10,
   "metadata": {},
   "outputs": [],
   "source": [
    "from aicspylibczi import CziFile\n",
    "import xml.etree.ElementTree as ET\n",
    "\n",
    "# Load CZI file\n",
    "czi = CziFile(\"stack_test.czi\")\n",
    "\n",
    "# Convert the metadata (ElementTree.Element) to a string\n",
    "xml_str = ET.tostring(czi.meta, encoding='unicode')\n",
    "\n",
    "with open(\"metadata_dump.xml\", \"w\", encoding=\"utf-8\") as f:\n",
    "    f.write(xml_str)"
   ]
  },
  {
   "cell_type": "code",
   "execution_count": null,
   "metadata": {},
   "outputs": [],
   "source": []
  }
 ],
 "metadata": {
  "kernelspec": {
   "display_name": ".venv",
   "language": "python",
   "name": "python3"
  },
  "language_info": {
   "codemirror_mode": {
    "name": "ipython",
    "version": 3
   },
   "file_extension": ".py",
   "mimetype": "text/x-python",
   "name": "python",
   "nbconvert_exporter": "python",
   "pygments_lexer": "ipython3",
   "version": "3.12.1"
  }
 },
 "nbformat": 4,
 "nbformat_minor": 2
}
